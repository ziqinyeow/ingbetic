{
 "cells": [
  {
   "cell_type": "code",
   "execution_count": 1,
   "metadata": {},
   "outputs": [],
   "source": [
    "import os\n",
    "import tqdm\n",
    "import json\n",
    "import numpy as np\n",
    "import pandas as pd\n",
    "import matplotlib.pyplot as plt"
   ]
  },
  {
   "cell_type": "code",
   "execution_count": 2,
   "metadata": {},
   "outputs": [],
   "source": [
    "data = [os.path.join('meta', x) for x in os.listdir('meta')]"
   ]
  },
  {
   "cell_type": "code",
   "execution_count": 3,
   "metadata": {},
   "outputs": [
    {
     "name": "stderr",
     "output_type": "stream",
     "text": [
      "100%|██████████| 27638/27638 [00:08<00:00, 3168.07it/s]\n"
     ]
    }
   ],
   "source": [
    "grid = []\n",
    "nutrition_desc = dict()\n",
    "\n",
    "for d in tqdm.tqdm(data):\n",
    "    row = dict()\n",
    "\n",
    "    with open(d) as file:\n",
    "        obj = json.load(file)\n",
    "        row['SRC'] = obj['source'].get('sourceRecipeUrl', None)\n",
    "        row['INGREDIENT'] = ', '.join(obj['ingredientLines'])\n",
    "        \n",
    "        nutrition = obj['nutritionEstimates']\n",
    "        for n in nutrition:\n",
    "            nutrition_desc[n['attribute']] = {\n",
    "                'unit': n['unit']['plural'],\n",
    "                'description': n['description'],\n",
    "            }\n",
    "            row[n['attribute']] = n['value']\n",
    "    \n",
    "    grid.append(row)"
   ]
  },
  {
   "cell_type": "code",
   "execution_count": 4,
   "metadata": {},
   "outputs": [],
   "source": [
    "df = pd.DataFrame(data=grid)\n",
    "df.to_csv('data.csv', index=False)"
   ]
  },
  {
   "cell_type": "code",
   "execution_count": 5,
   "metadata": {},
   "outputs": [
    {
     "data": {
      "text/html": [
       "<div>\n",
       "<style scoped>\n",
       "    .dataframe tbody tr th:only-of-type {\n",
       "        vertical-align: middle;\n",
       "    }\n",
       "\n",
       "    .dataframe tbody tr th {\n",
       "        vertical-align: top;\n",
       "    }\n",
       "\n",
       "    .dataframe thead th {\n",
       "        text-align: right;\n",
       "    }\n",
       "</style>\n",
       "<table border=\"1\" class=\"dataframe\">\n",
       "  <thead>\n",
       "    <tr style=\"text-align: right;\">\n",
       "      <th></th>\n",
       "      <th>SRC</th>\n",
       "      <th>INGREDIENT</th>\n",
       "      <th>SUGAR</th>\n",
       "    </tr>\n",
       "  </thead>\n",
       "  <tbody>\n",
       "    <tr>\n",
       "      <th>0</th>\n",
       "      <td>http://www.myrecipes.com/recipe/stuffed-cherry...</td>\n",
       "      <td>2 pints cherry tomatoes, 1 avocado, peeled and...</td>\n",
       "      <td>3.49</td>\n",
       "    </tr>\n",
       "    <tr>\n",
       "      <th>1</th>\n",
       "      <td>http://paleomg.com/simple-baked-halibut-with-b...</td>\n",
       "      <td>1 pound halibut (cut into 2 eight ounce pieces...</td>\n",
       "      <td>0.17</td>\n",
       "    </tr>\n",
       "    <tr>\n",
       "      <th>2</th>\n",
       "      <td>http://allrecipes.com/Recipe/honey-whole-wheat...</td>\n",
       "      <td>1 cup water (70 degrees to 80 degrees), 1/4 cu...</td>\n",
       "      <td>2.15</td>\n",
       "    </tr>\n",
       "    <tr>\n",
       "      <th>3</th>\n",
       "      <td>http://eatwithmarco.com/en/pasta-alla-norma/</td>\n",
       "      <td>3 melanzane / 3 eggplants, 1 spicchio d’aglio ...</td>\n",
       "      <td>3.78</td>\n",
       "    </tr>\n",
       "    <tr>\n",
       "      <th>4</th>\n",
       "      <td>http://www.myrecipes.com/recipe/plum-upside-do...</td>\n",
       "      <td>2 teaspoons butter, 6 large red plums, pitted ...</td>\n",
       "      <td>38.17</td>\n",
       "    </tr>\n",
       "  </tbody>\n",
       "</table>\n",
       "</div>"
      ],
      "text/plain": [
       "                                                 SRC   \n",
       "0  http://www.myrecipes.com/recipe/stuffed-cherry...  \\\n",
       "1  http://paleomg.com/simple-baked-halibut-with-b...   \n",
       "2  http://allrecipes.com/Recipe/honey-whole-wheat...   \n",
       "3       http://eatwithmarco.com/en/pasta-alla-norma/   \n",
       "4  http://www.myrecipes.com/recipe/plum-upside-do...   \n",
       "\n",
       "                                          INGREDIENT  SUGAR  \n",
       "0  2 pints cherry tomatoes, 1 avocado, peeled and...   3.49  \n",
       "1  1 pound halibut (cut into 2 eight ounce pieces...   0.17  \n",
       "2  1 cup water (70 degrees to 80 degrees), 1/4 cu...   2.15  \n",
       "3  3 melanzane / 3 eggplants, 1 spicchio d’aglio ...   3.78  \n",
       "4  2 teaspoons butter, 6 large red plums, pitted ...  38.17  "
      ]
     },
     "execution_count": 5,
     "metadata": {},
     "output_type": "execute_result"
    }
   ],
   "source": [
    "df = pd.DataFrame(data=grid)\n",
    "df = df[df['SUGAR'].notna()]\n",
    "df = df[['SRC', 'INGREDIENT', 'SUGAR']]\n",
    "df.fillna(0, inplace=True)\n",
    "df.head()"
   ]
  },
  {
   "cell_type": "code",
   "execution_count": 96,
   "metadata": {},
   "outputs": [],
   "source": [
    "df.to_csv('sugar.csv', index=False)"
   ]
  },
  {
   "cell_type": "code",
   "execution_count": null,
   "metadata": {},
   "outputs": [],
   "source": []
  }
 ],
 "metadata": {
  "kernelspec": {
   "display_name": "pytorch",
   "language": "python",
   "name": "python3"
  },
  "language_info": {
   "codemirror_mode": {
    "name": "ipython",
    "version": 3
   },
   "file_extension": ".py",
   "mimetype": "text/x-python",
   "name": "python",
   "nbconvert_exporter": "python",
   "pygments_lexer": "ipython3",
   "version": "3.8.15"
  },
  "orig_nbformat": 4
 },
 "nbformat": 4,
 "nbformat_minor": 2
}
